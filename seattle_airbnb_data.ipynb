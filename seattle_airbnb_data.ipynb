{
 "cells": [
  {
   "cell_type": "markdown",
   "id": "d8d52c67",
   "metadata": {},
   "source": [
    "# Seattle AirBnB Data\n",
    "In this notebook we will explore the publically available data for AirBnB listings in Seattle. We explore the dataset and try to answer the following questions throught the data\n",
    "\n",
    "## Business Understanding:\n",
    "\n",
    "#### Question 1:Which areas are expensive or more visited as compared to others?\n",
    "#### Question 2:How does the price vary during the year, when should you visit if you want a cheaper price?\n",
    "#### Question 3:What are the factors that influence price the most?"
   ]
  },
  {
   "cell_type": "markdown",
   "id": "0cd8f0ad",
   "metadata": {},
   "source": [
    "Lets import the data. As you can see the dataset has three sub datasets\n",
    "##### Calender: This contains the price and availability of listings over the course of one year\n",
    "##### Listings: This contains the information about the listing\n",
    "##### Reviews: This table contains the reviews each listing has received"
   ]
  },
  {
   "cell_type": "code",
   "execution_count": 1,
   "id": "bb8d018c",
   "metadata": {},
   "outputs": [],
   "source": [
    "import pandas as pd\n",
    "import numpy as np\n",
    "import re\n",
    "import matplotlib.pyplot as plt\n",
    "from sklearn.linear_model import LinearRegression\n",
    "from sklearn.model_selection import train_test_split\n",
    "from sklearn.metrics import r2_score, mean_squared_error\n",
    "import seaborn as sns\n",
    "import helper_func as hf\n",
    "%matplotlib inline\n",
    "\n",
    "calender_df = pd.read_csv(\"data/calendar.csv\")\n",
    "listing_df = pd.read_csv(\"data/listings.csv\")"
   ]
  },
  {
   "cell_type": "markdown",
   "id": "c8041b3f",
   "metadata": {},
   "source": [
    "I didn't load the reviews table as I will not be using it"
   ]
  },
  {
   "cell_type": "markdown",
   "id": "584e755b",
   "metadata": {},
   "source": [
    "# Data Exploration"
   ]
  },
  {
   "cell_type": "code",
   "execution_count": 2,
   "id": "37b6e331",
   "metadata": {},
   "outputs": [
    {
     "name": "stdout",
     "output_type": "stream",
     "text": [
      "(1393570, 4)\n",
      "(3818, 92)\n"
     ]
    }
   ],
   "source": [
    "print(calender_df.shape)\n",
    "print(listing_df.shape)"
   ]
  },
  {
   "cell_type": "markdown",
   "id": "54bd9e1e",
   "metadata": {},
   "source": [
    "As you can see we have total 3818 listings lets explore this dataset more"
   ]
  },
  {
   "cell_type": "code",
   "execution_count": 3,
   "id": "80b56124",
   "metadata": {},
   "outputs": [
    {
     "data": {
      "text/html": [
       "<div>\n",
       "<style scoped>\n",
       "    .dataframe tbody tr th:only-of-type {\n",
       "        vertical-align: middle;\n",
       "    }\n",
       "\n",
       "    .dataframe tbody tr th {\n",
       "        vertical-align: top;\n",
       "    }\n",
       "\n",
       "    .dataframe thead th {\n",
       "        text-align: right;\n",
       "    }\n",
       "</style>\n",
       "<table border=\"1\" class=\"dataframe\">\n",
       "  <thead>\n",
       "    <tr style=\"text-align: right;\">\n",
       "      <th></th>\n",
       "      <th>id</th>\n",
       "      <th>listing_url</th>\n",
       "      <th>scrape_id</th>\n",
       "      <th>last_scraped</th>\n",
       "      <th>name</th>\n",
       "      <th>summary</th>\n",
       "      <th>space</th>\n",
       "      <th>description</th>\n",
       "      <th>experiences_offered</th>\n",
       "      <th>neighborhood_overview</th>\n",
       "      <th>...</th>\n",
       "      <th>review_scores_value</th>\n",
       "      <th>requires_license</th>\n",
       "      <th>license</th>\n",
       "      <th>jurisdiction_names</th>\n",
       "      <th>instant_bookable</th>\n",
       "      <th>cancellation_policy</th>\n",
       "      <th>require_guest_profile_picture</th>\n",
       "      <th>require_guest_phone_verification</th>\n",
       "      <th>calculated_host_listings_count</th>\n",
       "      <th>reviews_per_month</th>\n",
       "    </tr>\n",
       "  </thead>\n",
       "  <tbody>\n",
       "    <tr>\n",
       "      <th>0</th>\n",
       "      <td>241032</td>\n",
       "      <td>https://www.airbnb.com/rooms/241032</td>\n",
       "      <td>20160104002432</td>\n",
       "      <td>2016-01-04</td>\n",
       "      <td>Stylish Queen Anne Apartment</td>\n",
       "      <td>NaN</td>\n",
       "      <td>Make your self at home in this charming one-be...</td>\n",
       "      <td>Make your self at home in this charming one-be...</td>\n",
       "      <td>none</td>\n",
       "      <td>NaN</td>\n",
       "      <td>...</td>\n",
       "      <td>10.0</td>\n",
       "      <td>f</td>\n",
       "      <td>NaN</td>\n",
       "      <td>WASHINGTON</td>\n",
       "      <td>f</td>\n",
       "      <td>moderate</td>\n",
       "      <td>f</td>\n",
       "      <td>f</td>\n",
       "      <td>2</td>\n",
       "      <td>4.07</td>\n",
       "    </tr>\n",
       "    <tr>\n",
       "      <th>1</th>\n",
       "      <td>953595</td>\n",
       "      <td>https://www.airbnb.com/rooms/953595</td>\n",
       "      <td>20160104002432</td>\n",
       "      <td>2016-01-04</td>\n",
       "      <td>Bright &amp; Airy Queen Anne Apartment</td>\n",
       "      <td>Chemically sensitive? We've removed the irrita...</td>\n",
       "      <td>Beautiful, hypoallergenic apartment in an extr...</td>\n",
       "      <td>Chemically sensitive? We've removed the irrita...</td>\n",
       "      <td>none</td>\n",
       "      <td>Queen Anne is a wonderful, truly functional vi...</td>\n",
       "      <td>...</td>\n",
       "      <td>10.0</td>\n",
       "      <td>f</td>\n",
       "      <td>NaN</td>\n",
       "      <td>WASHINGTON</td>\n",
       "      <td>f</td>\n",
       "      <td>strict</td>\n",
       "      <td>t</td>\n",
       "      <td>t</td>\n",
       "      <td>6</td>\n",
       "      <td>1.48</td>\n",
       "    </tr>\n",
       "    <tr>\n",
       "      <th>2</th>\n",
       "      <td>3308979</td>\n",
       "      <td>https://www.airbnb.com/rooms/3308979</td>\n",
       "      <td>20160104002432</td>\n",
       "      <td>2016-01-04</td>\n",
       "      <td>New Modern House-Amazing water view</td>\n",
       "      <td>New modern house built in 2013.  Spectacular s...</td>\n",
       "      <td>Our house is modern, light and fresh with a wa...</td>\n",
       "      <td>New modern house built in 2013.  Spectacular s...</td>\n",
       "      <td>none</td>\n",
       "      <td>Upper Queen Anne is a charming neighborhood fu...</td>\n",
       "      <td>...</td>\n",
       "      <td>10.0</td>\n",
       "      <td>f</td>\n",
       "      <td>NaN</td>\n",
       "      <td>WASHINGTON</td>\n",
       "      <td>f</td>\n",
       "      <td>strict</td>\n",
       "      <td>f</td>\n",
       "      <td>f</td>\n",
       "      <td>2</td>\n",
       "      <td>1.15</td>\n",
       "    </tr>\n",
       "    <tr>\n",
       "      <th>3</th>\n",
       "      <td>7421966</td>\n",
       "      <td>https://www.airbnb.com/rooms/7421966</td>\n",
       "      <td>20160104002432</td>\n",
       "      <td>2016-01-04</td>\n",
       "      <td>Queen Anne Chateau</td>\n",
       "      <td>A charming apartment that sits atop Queen Anne...</td>\n",
       "      <td>NaN</td>\n",
       "      <td>A charming apartment that sits atop Queen Anne...</td>\n",
       "      <td>none</td>\n",
       "      <td>NaN</td>\n",
       "      <td>...</td>\n",
       "      <td>NaN</td>\n",
       "      <td>f</td>\n",
       "      <td>NaN</td>\n",
       "      <td>WASHINGTON</td>\n",
       "      <td>f</td>\n",
       "      <td>flexible</td>\n",
       "      <td>f</td>\n",
       "      <td>f</td>\n",
       "      <td>1</td>\n",
       "      <td>NaN</td>\n",
       "    </tr>\n",
       "    <tr>\n",
       "      <th>4</th>\n",
       "      <td>278830</td>\n",
       "      <td>https://www.airbnb.com/rooms/278830</td>\n",
       "      <td>20160104002432</td>\n",
       "      <td>2016-01-04</td>\n",
       "      <td>Charming craftsman 3 bdm house</td>\n",
       "      <td>Cozy family craftman house in beautiful neighb...</td>\n",
       "      <td>Cozy family craftman house in beautiful neighb...</td>\n",
       "      <td>Cozy family craftman house in beautiful neighb...</td>\n",
       "      <td>none</td>\n",
       "      <td>We are in the beautiful neighborhood of Queen ...</td>\n",
       "      <td>...</td>\n",
       "      <td>9.0</td>\n",
       "      <td>f</td>\n",
       "      <td>NaN</td>\n",
       "      <td>WASHINGTON</td>\n",
       "      <td>f</td>\n",
       "      <td>strict</td>\n",
       "      <td>f</td>\n",
       "      <td>f</td>\n",
       "      <td>1</td>\n",
       "      <td>0.89</td>\n",
       "    </tr>\n",
       "  </tbody>\n",
       "</table>\n",
       "<p>5 rows × 92 columns</p>\n",
       "</div>"
      ],
      "text/plain": [
       "        id                           listing_url       scrape_id last_scraped  \\\n",
       "0   241032   https://www.airbnb.com/rooms/241032  20160104002432   2016-01-04   \n",
       "1   953595   https://www.airbnb.com/rooms/953595  20160104002432   2016-01-04   \n",
       "2  3308979  https://www.airbnb.com/rooms/3308979  20160104002432   2016-01-04   \n",
       "3  7421966  https://www.airbnb.com/rooms/7421966  20160104002432   2016-01-04   \n",
       "4   278830   https://www.airbnb.com/rooms/278830  20160104002432   2016-01-04   \n",
       "\n",
       "                                  name  \\\n",
       "0         Stylish Queen Anne Apartment   \n",
       "1   Bright & Airy Queen Anne Apartment   \n",
       "2  New Modern House-Amazing water view   \n",
       "3                   Queen Anne Chateau   \n",
       "4       Charming craftsman 3 bdm house   \n",
       "\n",
       "                                             summary  \\\n",
       "0                                                NaN   \n",
       "1  Chemically sensitive? We've removed the irrita...   \n",
       "2  New modern house built in 2013.  Spectacular s...   \n",
       "3  A charming apartment that sits atop Queen Anne...   \n",
       "4  Cozy family craftman house in beautiful neighb...   \n",
       "\n",
       "                                               space  \\\n",
       "0  Make your self at home in this charming one-be...   \n",
       "1  Beautiful, hypoallergenic apartment in an extr...   \n",
       "2  Our house is modern, light and fresh with a wa...   \n",
       "3                                                NaN   \n",
       "4  Cozy family craftman house in beautiful neighb...   \n",
       "\n",
       "                                         description experiences_offered  \\\n",
       "0  Make your self at home in this charming one-be...                none   \n",
       "1  Chemically sensitive? We've removed the irrita...                none   \n",
       "2  New modern house built in 2013.  Spectacular s...                none   \n",
       "3  A charming apartment that sits atop Queen Anne...                none   \n",
       "4  Cozy family craftman house in beautiful neighb...                none   \n",
       "\n",
       "                               neighborhood_overview  ... review_scores_value  \\\n",
       "0                                                NaN  ...                10.0   \n",
       "1  Queen Anne is a wonderful, truly functional vi...  ...                10.0   \n",
       "2  Upper Queen Anne is a charming neighborhood fu...  ...                10.0   \n",
       "3                                                NaN  ...                 NaN   \n",
       "4  We are in the beautiful neighborhood of Queen ...  ...                 9.0   \n",
       "\n",
       "  requires_license license jurisdiction_names instant_bookable  \\\n",
       "0                f     NaN         WASHINGTON                f   \n",
       "1                f     NaN         WASHINGTON                f   \n",
       "2                f     NaN         WASHINGTON                f   \n",
       "3                f     NaN         WASHINGTON                f   \n",
       "4                f     NaN         WASHINGTON                f   \n",
       "\n",
       "  cancellation_policy  require_guest_profile_picture  \\\n",
       "0            moderate                              f   \n",
       "1              strict                              t   \n",
       "2              strict                              f   \n",
       "3            flexible                              f   \n",
       "4              strict                              f   \n",
       "\n",
       "  require_guest_phone_verification calculated_host_listings_count  \\\n",
       "0                                f                              2   \n",
       "1                                t                              6   \n",
       "2                                f                              2   \n",
       "3                                f                              1   \n",
       "4                                f                              1   \n",
       "\n",
       "  reviews_per_month  \n",
       "0              4.07  \n",
       "1              1.48  \n",
       "2              1.15  \n",
       "3               NaN  \n",
       "4              0.89  \n",
       "\n",
       "[5 rows x 92 columns]"
      ]
     },
     "execution_count": 3,
     "metadata": {},
     "output_type": "execute_result"
    }
   ],
   "source": [
    "listing_df.head()"
   ]
  },
  {
   "cell_type": "code",
   "execution_count": 4,
   "id": "9f7031f1",
   "metadata": {},
   "outputs": [
    {
     "data": {
      "text/html": [
       "<div>\n",
       "<style scoped>\n",
       "    .dataframe tbody tr th:only-of-type {\n",
       "        vertical-align: middle;\n",
       "    }\n",
       "\n",
       "    .dataframe tbody tr th {\n",
       "        vertical-align: top;\n",
       "    }\n",
       "\n",
       "    .dataframe thead th {\n",
       "        text-align: right;\n",
       "    }\n",
       "</style>\n",
       "<table border=\"1\" class=\"dataframe\">\n",
       "  <thead>\n",
       "    <tr style=\"text-align: right;\">\n",
       "      <th></th>\n",
       "      <th>listing_id</th>\n",
       "      <th>date</th>\n",
       "      <th>available</th>\n",
       "      <th>price</th>\n",
       "    </tr>\n",
       "  </thead>\n",
       "  <tbody>\n",
       "    <tr>\n",
       "      <th>0</th>\n",
       "      <td>241032</td>\n",
       "      <td>2016-01-04</td>\n",
       "      <td>t</td>\n",
       "      <td>$85.00</td>\n",
       "    </tr>\n",
       "    <tr>\n",
       "      <th>1</th>\n",
       "      <td>241032</td>\n",
       "      <td>2016-01-05</td>\n",
       "      <td>t</td>\n",
       "      <td>$85.00</td>\n",
       "    </tr>\n",
       "    <tr>\n",
       "      <th>2</th>\n",
       "      <td>241032</td>\n",
       "      <td>2016-01-06</td>\n",
       "      <td>f</td>\n",
       "      <td>NaN</td>\n",
       "    </tr>\n",
       "    <tr>\n",
       "      <th>3</th>\n",
       "      <td>241032</td>\n",
       "      <td>2016-01-07</td>\n",
       "      <td>f</td>\n",
       "      <td>NaN</td>\n",
       "    </tr>\n",
       "    <tr>\n",
       "      <th>4</th>\n",
       "      <td>241032</td>\n",
       "      <td>2016-01-08</td>\n",
       "      <td>f</td>\n",
       "      <td>NaN</td>\n",
       "    </tr>\n",
       "  </tbody>\n",
       "</table>\n",
       "</div>"
      ],
      "text/plain": [
       "   listing_id        date available   price\n",
       "0      241032  2016-01-04         t  $85.00\n",
       "1      241032  2016-01-05         t  $85.00\n",
       "2      241032  2016-01-06         f     NaN\n",
       "3      241032  2016-01-07         f     NaN\n",
       "4      241032  2016-01-08         f     NaN"
      ]
     },
     "execution_count": 4,
     "metadata": {},
     "output_type": "execute_result"
    }
   ],
   "source": [
    "calender_df.head()"
   ]
  },
  {
   "cell_type": "code",
   "execution_count": 5,
   "id": "b2eadede",
   "metadata": {},
   "outputs": [
    {
     "data": {
      "text/plain": [
       "Index(['id', 'listing_url', 'scrape_id', 'last_scraped', 'name', 'summary',\n",
       "       'space', 'description', 'experiences_offered', 'neighborhood_overview',\n",
       "       'notes', 'transit', 'thumbnail_url', 'medium_url', 'picture_url',\n",
       "       'xl_picture_url', 'host_id', 'host_url', 'host_name', 'host_since',\n",
       "       'host_location', 'host_about', 'host_response_time',\n",
       "       'host_response_rate', 'host_acceptance_rate', 'host_is_superhost',\n",
       "       'host_thumbnail_url', 'host_picture_url', 'host_neighbourhood',\n",
       "       'host_listings_count', 'host_total_listings_count',\n",
       "       'host_verifications', 'host_has_profile_pic', 'host_identity_verified',\n",
       "       'street', 'neighbourhood', 'neighbourhood_cleansed',\n",
       "       'neighbourhood_group_cleansed', 'city', 'state', 'zipcode', 'market',\n",
       "       'smart_location', 'country_code', 'country', 'latitude', 'longitude',\n",
       "       'is_location_exact', 'property_type', 'room_type', 'accommodates',\n",
       "       'bathrooms', 'bedrooms', 'beds', 'bed_type', 'amenities', 'square_feet',\n",
       "       'price', 'weekly_price', 'monthly_price', 'security_deposit',\n",
       "       'cleaning_fee', 'guests_included', 'extra_people', 'minimum_nights',\n",
       "       'maximum_nights', 'calendar_updated', 'has_availability',\n",
       "       'availability_30', 'availability_60', 'availability_90',\n",
       "       'availability_365', 'calendar_last_scraped', 'number_of_reviews',\n",
       "       'first_review', 'last_review', 'review_scores_rating',\n",
       "       'review_scores_accuracy', 'review_scores_cleanliness',\n",
       "       'review_scores_checkin', 'review_scores_communication',\n",
       "       'review_scores_location', 'review_scores_value', 'requires_license',\n",
       "       'license', 'jurisdiction_names', 'instant_bookable',\n",
       "       'cancellation_policy', 'require_guest_profile_picture',\n",
       "       'require_guest_phone_verification', 'calculated_host_listings_count',\n",
       "       'reviews_per_month'],\n",
       "      dtype='object')"
      ]
     },
     "execution_count": 5,
     "metadata": {},
     "output_type": "execute_result"
    }
   ],
   "source": [
    "listing_df.columns"
   ]
  },
  {
   "cell_type": "code",
   "execution_count": 6,
   "id": "23217cb9",
   "metadata": {},
   "outputs": [
    {
     "data": {
      "text/html": [
       "<div>\n",
       "<style scoped>\n",
       "    .dataframe tbody tr th:only-of-type {\n",
       "        vertical-align: middle;\n",
       "    }\n",
       "\n",
       "    .dataframe tbody tr th {\n",
       "        vertical-align: top;\n",
       "    }\n",
       "\n",
       "    .dataframe thead th {\n",
       "        text-align: right;\n",
       "    }\n",
       "</style>\n",
       "<table border=\"1\" class=\"dataframe\">\n",
       "  <thead>\n",
       "    <tr style=\"text-align: right;\">\n",
       "      <th></th>\n",
       "      <th>id</th>\n",
       "      <th>scrape_id</th>\n",
       "      <th>host_id</th>\n",
       "      <th>host_listings_count</th>\n",
       "      <th>host_total_listings_count</th>\n",
       "      <th>latitude</th>\n",
       "      <th>longitude</th>\n",
       "      <th>accommodates</th>\n",
       "      <th>bathrooms</th>\n",
       "      <th>bedrooms</th>\n",
       "      <th>...</th>\n",
       "      <th>review_scores_rating</th>\n",
       "      <th>review_scores_accuracy</th>\n",
       "      <th>review_scores_cleanliness</th>\n",
       "      <th>review_scores_checkin</th>\n",
       "      <th>review_scores_communication</th>\n",
       "      <th>review_scores_location</th>\n",
       "      <th>review_scores_value</th>\n",
       "      <th>license</th>\n",
       "      <th>calculated_host_listings_count</th>\n",
       "      <th>reviews_per_month</th>\n",
       "    </tr>\n",
       "  </thead>\n",
       "  <tbody>\n",
       "    <tr>\n",
       "      <th>count</th>\n",
       "      <td>3.818000e+03</td>\n",
       "      <td>3.818000e+03</td>\n",
       "      <td>3.818000e+03</td>\n",
       "      <td>3816.000000</td>\n",
       "      <td>3816.000000</td>\n",
       "      <td>3818.000000</td>\n",
       "      <td>3818.000000</td>\n",
       "      <td>3818.000000</td>\n",
       "      <td>3802.000000</td>\n",
       "      <td>3812.000000</td>\n",
       "      <td>...</td>\n",
       "      <td>3171.000000</td>\n",
       "      <td>3160.000000</td>\n",
       "      <td>3165.000000</td>\n",
       "      <td>3160.000000</td>\n",
       "      <td>3167.000000</td>\n",
       "      <td>3163.000000</td>\n",
       "      <td>3162.000000</td>\n",
       "      <td>0.0</td>\n",
       "      <td>3818.000000</td>\n",
       "      <td>3191.000000</td>\n",
       "    </tr>\n",
       "    <tr>\n",
       "      <th>mean</th>\n",
       "      <td>5.550111e+06</td>\n",
       "      <td>2.016010e+13</td>\n",
       "      <td>1.578556e+07</td>\n",
       "      <td>7.157757</td>\n",
       "      <td>7.157757</td>\n",
       "      <td>47.628961</td>\n",
       "      <td>-122.333103</td>\n",
       "      <td>3.349398</td>\n",
       "      <td>1.259469</td>\n",
       "      <td>1.307712</td>\n",
       "      <td>...</td>\n",
       "      <td>94.539262</td>\n",
       "      <td>9.636392</td>\n",
       "      <td>9.556398</td>\n",
       "      <td>9.786709</td>\n",
       "      <td>9.809599</td>\n",
       "      <td>9.608916</td>\n",
       "      <td>9.452245</td>\n",
       "      <td>NaN</td>\n",
       "      <td>2.946307</td>\n",
       "      <td>2.078919</td>\n",
       "    </tr>\n",
       "    <tr>\n",
       "      <th>std</th>\n",
       "      <td>2.962660e+06</td>\n",
       "      <td>0.000000e+00</td>\n",
       "      <td>1.458382e+07</td>\n",
       "      <td>28.628149</td>\n",
       "      <td>28.628149</td>\n",
       "      <td>0.043052</td>\n",
       "      <td>0.031745</td>\n",
       "      <td>1.977599</td>\n",
       "      <td>0.590369</td>\n",
       "      <td>0.883395</td>\n",
       "      <td>...</td>\n",
       "      <td>6.606083</td>\n",
       "      <td>0.698031</td>\n",
       "      <td>0.797274</td>\n",
       "      <td>0.595499</td>\n",
       "      <td>0.568211</td>\n",
       "      <td>0.629053</td>\n",
       "      <td>0.750259</td>\n",
       "      <td>NaN</td>\n",
       "      <td>5.893029</td>\n",
       "      <td>1.822348</td>\n",
       "    </tr>\n",
       "    <tr>\n",
       "      <th>min</th>\n",
       "      <td>3.335000e+03</td>\n",
       "      <td>2.016010e+13</td>\n",
       "      <td>4.193000e+03</td>\n",
       "      <td>1.000000</td>\n",
       "      <td>1.000000</td>\n",
       "      <td>47.505088</td>\n",
       "      <td>-122.417219</td>\n",
       "      <td>1.000000</td>\n",
       "      <td>0.000000</td>\n",
       "      <td>0.000000</td>\n",
       "      <td>...</td>\n",
       "      <td>20.000000</td>\n",
       "      <td>2.000000</td>\n",
       "      <td>3.000000</td>\n",
       "      <td>2.000000</td>\n",
       "      <td>2.000000</td>\n",
       "      <td>4.000000</td>\n",
       "      <td>2.000000</td>\n",
       "      <td>NaN</td>\n",
       "      <td>1.000000</td>\n",
       "      <td>0.020000</td>\n",
       "    </tr>\n",
       "    <tr>\n",
       "      <th>25%</th>\n",
       "      <td>3.258256e+06</td>\n",
       "      <td>2.016010e+13</td>\n",
       "      <td>3.275204e+06</td>\n",
       "      <td>1.000000</td>\n",
       "      <td>1.000000</td>\n",
       "      <td>47.609418</td>\n",
       "      <td>-122.354320</td>\n",
       "      <td>2.000000</td>\n",
       "      <td>1.000000</td>\n",
       "      <td>1.000000</td>\n",
       "      <td>...</td>\n",
       "      <td>93.000000</td>\n",
       "      <td>9.000000</td>\n",
       "      <td>9.000000</td>\n",
       "      <td>10.000000</td>\n",
       "      <td>10.000000</td>\n",
       "      <td>9.000000</td>\n",
       "      <td>9.000000</td>\n",
       "      <td>NaN</td>\n",
       "      <td>1.000000</td>\n",
       "      <td>0.695000</td>\n",
       "    </tr>\n",
       "    <tr>\n",
       "      <th>50%</th>\n",
       "      <td>6.118244e+06</td>\n",
       "      <td>2.016010e+13</td>\n",
       "      <td>1.055814e+07</td>\n",
       "      <td>1.000000</td>\n",
       "      <td>1.000000</td>\n",
       "      <td>47.623601</td>\n",
       "      <td>-122.328874</td>\n",
       "      <td>3.000000</td>\n",
       "      <td>1.000000</td>\n",
       "      <td>1.000000</td>\n",
       "      <td>...</td>\n",
       "      <td>96.000000</td>\n",
       "      <td>10.000000</td>\n",
       "      <td>10.000000</td>\n",
       "      <td>10.000000</td>\n",
       "      <td>10.000000</td>\n",
       "      <td>10.000000</td>\n",
       "      <td>10.000000</td>\n",
       "      <td>NaN</td>\n",
       "      <td>1.000000</td>\n",
       "      <td>1.540000</td>\n",
       "    </tr>\n",
       "    <tr>\n",
       "      <th>75%</th>\n",
       "      <td>8.035127e+06</td>\n",
       "      <td>2.016010e+13</td>\n",
       "      <td>2.590309e+07</td>\n",
       "      <td>3.000000</td>\n",
       "      <td>3.000000</td>\n",
       "      <td>47.662694</td>\n",
       "      <td>-122.310800</td>\n",
       "      <td>4.000000</td>\n",
       "      <td>1.000000</td>\n",
       "      <td>2.000000</td>\n",
       "      <td>...</td>\n",
       "      <td>99.000000</td>\n",
       "      <td>10.000000</td>\n",
       "      <td>10.000000</td>\n",
       "      <td>10.000000</td>\n",
       "      <td>10.000000</td>\n",
       "      <td>10.000000</td>\n",
       "      <td>10.000000</td>\n",
       "      <td>NaN</td>\n",
       "      <td>2.000000</td>\n",
       "      <td>3.000000</td>\n",
       "    </tr>\n",
       "    <tr>\n",
       "      <th>max</th>\n",
       "      <td>1.034016e+07</td>\n",
       "      <td>2.016010e+13</td>\n",
       "      <td>5.320861e+07</td>\n",
       "      <td>502.000000</td>\n",
       "      <td>502.000000</td>\n",
       "      <td>47.733358</td>\n",
       "      <td>-122.240607</td>\n",
       "      <td>16.000000</td>\n",
       "      <td>8.000000</td>\n",
       "      <td>7.000000</td>\n",
       "      <td>...</td>\n",
       "      <td>100.000000</td>\n",
       "      <td>10.000000</td>\n",
       "      <td>10.000000</td>\n",
       "      <td>10.000000</td>\n",
       "      <td>10.000000</td>\n",
       "      <td>10.000000</td>\n",
       "      <td>10.000000</td>\n",
       "      <td>NaN</td>\n",
       "      <td>37.000000</td>\n",
       "      <td>12.150000</td>\n",
       "    </tr>\n",
       "  </tbody>\n",
       "</table>\n",
       "<p>8 rows × 30 columns</p>\n",
       "</div>"
      ],
      "text/plain": [
       "                 id     scrape_id       host_id  host_listings_count  \\\n",
       "count  3.818000e+03  3.818000e+03  3.818000e+03          3816.000000   \n",
       "mean   5.550111e+06  2.016010e+13  1.578556e+07             7.157757   \n",
       "std    2.962660e+06  0.000000e+00  1.458382e+07            28.628149   \n",
       "min    3.335000e+03  2.016010e+13  4.193000e+03             1.000000   \n",
       "25%    3.258256e+06  2.016010e+13  3.275204e+06             1.000000   \n",
       "50%    6.118244e+06  2.016010e+13  1.055814e+07             1.000000   \n",
       "75%    8.035127e+06  2.016010e+13  2.590309e+07             3.000000   \n",
       "max    1.034016e+07  2.016010e+13  5.320861e+07           502.000000   \n",
       "\n",
       "       host_total_listings_count     latitude    longitude  accommodates  \\\n",
       "count                3816.000000  3818.000000  3818.000000   3818.000000   \n",
       "mean                    7.157757    47.628961  -122.333103      3.349398   \n",
       "std                    28.628149     0.043052     0.031745      1.977599   \n",
       "min                     1.000000    47.505088  -122.417219      1.000000   \n",
       "25%                     1.000000    47.609418  -122.354320      2.000000   \n",
       "50%                     1.000000    47.623601  -122.328874      3.000000   \n",
       "75%                     3.000000    47.662694  -122.310800      4.000000   \n",
       "max                   502.000000    47.733358  -122.240607     16.000000   \n",
       "\n",
       "         bathrooms     bedrooms  ...  review_scores_rating  \\\n",
       "count  3802.000000  3812.000000  ...           3171.000000   \n",
       "mean      1.259469     1.307712  ...             94.539262   \n",
       "std       0.590369     0.883395  ...              6.606083   \n",
       "min       0.000000     0.000000  ...             20.000000   \n",
       "25%       1.000000     1.000000  ...             93.000000   \n",
       "50%       1.000000     1.000000  ...             96.000000   \n",
       "75%       1.000000     2.000000  ...             99.000000   \n",
       "max       8.000000     7.000000  ...            100.000000   \n",
       "\n",
       "       review_scores_accuracy  review_scores_cleanliness  \\\n",
       "count             3160.000000                3165.000000   \n",
       "mean                 9.636392                   9.556398   \n",
       "std                  0.698031                   0.797274   \n",
       "min                  2.000000                   3.000000   \n",
       "25%                  9.000000                   9.000000   \n",
       "50%                 10.000000                  10.000000   \n",
       "75%                 10.000000                  10.000000   \n",
       "max                 10.000000                  10.000000   \n",
       "\n",
       "       review_scores_checkin  review_scores_communication  \\\n",
       "count            3160.000000                  3167.000000   \n",
       "mean                9.786709                     9.809599   \n",
       "std                 0.595499                     0.568211   \n",
       "min                 2.000000                     2.000000   \n",
       "25%                10.000000                    10.000000   \n",
       "50%                10.000000                    10.000000   \n",
       "75%                10.000000                    10.000000   \n",
       "max                10.000000                    10.000000   \n",
       "\n",
       "       review_scores_location  review_scores_value  license  \\\n",
       "count             3163.000000          3162.000000      0.0   \n",
       "mean                 9.608916             9.452245      NaN   \n",
       "std                  0.629053             0.750259      NaN   \n",
       "min                  4.000000             2.000000      NaN   \n",
       "25%                  9.000000             9.000000      NaN   \n",
       "50%                 10.000000            10.000000      NaN   \n",
       "75%                 10.000000            10.000000      NaN   \n",
       "max                 10.000000            10.000000      NaN   \n",
       "\n",
       "       calculated_host_listings_count  reviews_per_month  \n",
       "count                     3818.000000        3191.000000  \n",
       "mean                         2.946307           2.078919  \n",
       "std                          5.893029           1.822348  \n",
       "min                          1.000000           0.020000  \n",
       "25%                          1.000000           0.695000  \n",
       "50%                          1.000000           1.540000  \n",
       "75%                          2.000000           3.000000  \n",
       "max                         37.000000          12.150000  \n",
       "\n",
       "[8 rows x 30 columns]"
      ]
     },
     "execution_count": 6,
     "metadata": {},
     "output_type": "execute_result"
    }
   ],
   "source": [
    "listing_df.describe()"
   ]
  },
  {
   "cell_type": "code",
   "execution_count": 7,
   "id": "5fef4121",
   "metadata": {},
   "outputs": [
    {
     "data": {
      "text/plain": [
       "Index(['listing_id', 'date', 'available', 'price'], dtype='object')"
      ]
     },
     "execution_count": 7,
     "metadata": {},
     "output_type": "execute_result"
    }
   ],
   "source": [
    "calender_df.columns"
   ]
  },
  {
   "cell_type": "code",
   "execution_count": 8,
   "id": "800e30c2",
   "metadata": {},
   "outputs": [
    {
     "data": {
      "text/html": [
       "<div>\n",
       "<style scoped>\n",
       "    .dataframe tbody tr th:only-of-type {\n",
       "        vertical-align: middle;\n",
       "    }\n",
       "\n",
       "    .dataframe tbody tr th {\n",
       "        vertical-align: top;\n",
       "    }\n",
       "\n",
       "    .dataframe thead th {\n",
       "        text-align: right;\n",
       "    }\n",
       "</style>\n",
       "<table border=\"1\" class=\"dataframe\">\n",
       "  <thead>\n",
       "    <tr style=\"text-align: right;\">\n",
       "      <th></th>\n",
       "      <th>listing_id</th>\n",
       "    </tr>\n",
       "  </thead>\n",
       "  <tbody>\n",
       "    <tr>\n",
       "      <th>count</th>\n",
       "      <td>1.393570e+06</td>\n",
       "    </tr>\n",
       "    <tr>\n",
       "      <th>mean</th>\n",
       "      <td>5.550111e+06</td>\n",
       "    </tr>\n",
       "    <tr>\n",
       "      <th>std</th>\n",
       "      <td>2.962274e+06</td>\n",
       "    </tr>\n",
       "    <tr>\n",
       "      <th>min</th>\n",
       "      <td>3.335000e+03</td>\n",
       "    </tr>\n",
       "    <tr>\n",
       "      <th>25%</th>\n",
       "      <td>3.258213e+06</td>\n",
       "    </tr>\n",
       "    <tr>\n",
       "      <th>50%</th>\n",
       "      <td>6.118244e+06</td>\n",
       "    </tr>\n",
       "    <tr>\n",
       "      <th>75%</th>\n",
       "      <td>8.035212e+06</td>\n",
       "    </tr>\n",
       "    <tr>\n",
       "      <th>max</th>\n",
       "      <td>1.034016e+07</td>\n",
       "    </tr>\n",
       "  </tbody>\n",
       "</table>\n",
       "</div>"
      ],
      "text/plain": [
       "         listing_id\n",
       "count  1.393570e+06\n",
       "mean   5.550111e+06\n",
       "std    2.962274e+06\n",
       "min    3.335000e+03\n",
       "25%    3.258213e+06\n",
       "50%    6.118244e+06\n",
       "75%    8.035212e+06\n",
       "max    1.034016e+07"
      ]
     },
     "execution_count": 8,
     "metadata": {},
     "output_type": "execute_result"
    }
   ],
   "source": [
    "calender_df.describe()"
   ]
  },
  {
   "cell_type": "markdown",
   "id": "d09ee3a1",
   "metadata": {},
   "source": [
    "# Data Cleaning\n",
    "\n",
    "Lets clean the listings table. I have selected some columns that I will be working on"
   ]
  },
  {
   "cell_type": "code",
   "execution_count": 9,
   "id": "529698f0",
   "metadata": {},
   "outputs": [],
   "source": [
    "cleansed_listings_df = listing_df[['host_response_rate',\n",
    "                             'host_acceptance_rate',\n",
    "                             'host_is_superhost',\n",
    "                             'host_identity_verified',\n",
    "                             'is_location_exact',\n",
    "                             'accommodates',\n",
    "                             'bathrooms',\n",
    "                             'bedrooms',\n",
    "                             'beds',\n",
    "                             'square_feet',\n",
    "                             'price',\n",
    "                             'number_of_reviews',\n",
    "                             'review_scores_rating',\n",
    "                             'instant_bookable',\n",
    "                             'calculated_host_listings_count',\n",
    "                             'reviews_per_month']]"
   ]
  },
  {
   "cell_type": "markdown",
   "id": "b0a042ee",
   "metadata": {},
   "source": [
    "Lets check for missing values in the data"
   ]
  },
  {
   "cell_type": "code",
   "execution_count": 10,
   "id": "20e1d13b",
   "metadata": {},
   "outputs": [
    {
     "data": {
      "text/plain": [
       "square_feet                       97.459403\n",
       "host_acceptance_rate              20.246202\n",
       "review_scores_rating              16.946045\n",
       "reviews_per_month                 16.422211\n",
       "host_response_rate                13.698271\n",
       "bathrooms                          0.419068\n",
       "bedrooms                           0.157150\n",
       "host_is_superhost                  0.052383\n",
       "host_identity_verified             0.052383\n",
       "beds                               0.026192\n",
       "is_location_exact                  0.000000\n",
       "accommodates                       0.000000\n",
       "price                              0.000000\n",
       "number_of_reviews                  0.000000\n",
       "instant_bookable                   0.000000\n",
       "calculated_host_listings_count     0.000000\n",
       "dtype: float64"
      ]
     },
     "execution_count": 10,
     "metadata": {},
     "output_type": "execute_result"
    }
   ],
   "source": [
    " cleansed_listings_df.isnull().sum().sort_values(ascending=False) * 100 / len(listing_df)"
   ]
  },
  {
   "cell_type": "markdown",
   "id": "50a3ce46",
   "metadata": {},
   "source": [
    "After reviewing the columns I have shortlisted the following to see their affect on price. Replace the true/false columns with 1/0 and remove the percentage sign from 'host_acceptance_rate','host_response_rate'. Also lets remove the $ sign from the price column\n",
    "Further lets check for missing values"
   ]
  },
  {
   "cell_type": "code",
   "execution_count": 11,
   "id": "687ff969",
   "metadata": {},
   "outputs": [],
   "source": [
    "cleansed_listings_df = hf.clean_listing_df(cleansed_listings_df)"
   ]
  },
  {
   "cell_type": "markdown",
   "id": "ff8e69ee",
   "metadata": {},
   "source": [
    "We can also see how mnay unique values does each column hold to get more information about what we are dealing with"
   ]
  },
  {
   "cell_type": "code",
   "execution_count": 12,
   "id": "56b5d207",
   "metadata": {},
   "outputs": [
    {
     "data": {
      "text/plain": [
       "host_acceptance_rate                2\n",
       "host_is_superhost                   2\n",
       "host_identity_verified              2\n",
       "is_location_exact                   2\n",
       "instant_bookable                    2\n",
       "bedrooms                            8\n",
       "beds                               11\n",
       "bathrooms                          12\n",
       "accommodates                       15\n",
       "calculated_host_listings_count     18\n",
       "review_scores_rating               42\n",
       "host_response_rate                 45\n",
       "square_feet                        47\n",
       "number_of_reviews                 195\n",
       "price                             273\n",
       "reviews_per_month                 654\n",
       "dtype: int64"
      ]
     },
     "execution_count": 12,
     "metadata": {},
     "output_type": "execute_result"
    }
   ],
   "source": [
    "cleansed_listings_df.nunique(axis=0).sort_values(ascending=True)"
   ]
  },
  {
   "cell_type": "code",
   "execution_count": 13,
   "id": "78d7dcbe",
   "metadata": {},
   "outputs": [
    {
     "data": {
      "text/html": [
       "<div>\n",
       "<style scoped>\n",
       "    .dataframe tbody tr th:only-of-type {\n",
       "        vertical-align: middle;\n",
       "    }\n",
       "\n",
       "    .dataframe tbody tr th {\n",
       "        vertical-align: top;\n",
       "    }\n",
       "\n",
       "    .dataframe thead th {\n",
       "        text-align: right;\n",
       "    }\n",
       "</style>\n",
       "<table border=\"1\" class=\"dataframe\">\n",
       "  <thead>\n",
       "    <tr style=\"text-align: right;\">\n",
       "      <th></th>\n",
       "      <th>host_response_rate</th>\n",
       "      <th>host_acceptance_rate</th>\n",
       "      <th>host_is_superhost</th>\n",
       "      <th>host_identity_verified</th>\n",
       "      <th>is_location_exact</th>\n",
       "      <th>accommodates</th>\n",
       "      <th>bathrooms</th>\n",
       "      <th>bedrooms</th>\n",
       "      <th>beds</th>\n",
       "      <th>square_feet</th>\n",
       "      <th>price</th>\n",
       "      <th>number_of_reviews</th>\n",
       "      <th>review_scores_rating</th>\n",
       "      <th>instant_bookable</th>\n",
       "      <th>calculated_host_listings_count</th>\n",
       "      <th>reviews_per_month</th>\n",
       "    </tr>\n",
       "  </thead>\n",
       "  <tbody>\n",
       "    <tr>\n",
       "      <th>count</th>\n",
       "      <td>3295.000000</td>\n",
       "      <td>3045.000000</td>\n",
       "      <td>3816.000000</td>\n",
       "      <td>3816.000000</td>\n",
       "      <td>3818.000000</td>\n",
       "      <td>3818.000000</td>\n",
       "      <td>3802.000000</td>\n",
       "      <td>3812.000000</td>\n",
       "      <td>3817.000000</td>\n",
       "      <td>97.000000</td>\n",
       "      <td>3818.000000</td>\n",
       "      <td>3818.000000</td>\n",
       "      <td>3171.000000</td>\n",
       "      <td>3818.000000</td>\n",
       "      <td>3818.000000</td>\n",
       "      <td>3191.000000</td>\n",
       "    </tr>\n",
       "    <tr>\n",
       "      <th>mean</th>\n",
       "      <td>94.886798</td>\n",
       "      <td>99.967159</td>\n",
       "      <td>0.203878</td>\n",
       "      <td>0.785377</td>\n",
       "      <td>0.893662</td>\n",
       "      <td>3.349398</td>\n",
       "      <td>1.259469</td>\n",
       "      <td>1.307712</td>\n",
       "      <td>1.735394</td>\n",
       "      <td>854.618557</td>\n",
       "      <td>127.976166</td>\n",
       "      <td>22.223415</td>\n",
       "      <td>94.539262</td>\n",
       "      <td>0.154793</td>\n",
       "      <td>2.946307</td>\n",
       "      <td>2.078919</td>\n",
       "    </tr>\n",
       "    <tr>\n",
       "      <th>std</th>\n",
       "      <td>11.866705</td>\n",
       "      <td>1.812201</td>\n",
       "      <td>0.402932</td>\n",
       "      <td>0.410614</td>\n",
       "      <td>0.308311</td>\n",
       "      <td>1.977599</td>\n",
       "      <td>0.590369</td>\n",
       "      <td>0.883395</td>\n",
       "      <td>1.139480</td>\n",
       "      <td>671.404893</td>\n",
       "      <td>90.250022</td>\n",
       "      <td>37.730892</td>\n",
       "      <td>6.606083</td>\n",
       "      <td>0.361755</td>\n",
       "      <td>5.893029</td>\n",
       "      <td>1.822348</td>\n",
       "    </tr>\n",
       "    <tr>\n",
       "      <th>min</th>\n",
       "      <td>17.000000</td>\n",
       "      <td>0.000000</td>\n",
       "      <td>0.000000</td>\n",
       "      <td>0.000000</td>\n",
       "      <td>0.000000</td>\n",
       "      <td>1.000000</td>\n",
       "      <td>0.000000</td>\n",
       "      <td>0.000000</td>\n",
       "      <td>1.000000</td>\n",
       "      <td>0.000000</td>\n",
       "      <td>20.000000</td>\n",
       "      <td>0.000000</td>\n",
       "      <td>20.000000</td>\n",
       "      <td>0.000000</td>\n",
       "      <td>1.000000</td>\n",
       "      <td>0.020000</td>\n",
       "    </tr>\n",
       "    <tr>\n",
       "      <th>25%</th>\n",
       "      <td>98.000000</td>\n",
       "      <td>100.000000</td>\n",
       "      <td>0.000000</td>\n",
       "      <td>1.000000</td>\n",
       "      <td>1.000000</td>\n",
       "      <td>2.000000</td>\n",
       "      <td>1.000000</td>\n",
       "      <td>1.000000</td>\n",
       "      <td>1.000000</td>\n",
       "      <td>420.000000</td>\n",
       "      <td>75.000000</td>\n",
       "      <td>2.000000</td>\n",
       "      <td>93.000000</td>\n",
       "      <td>0.000000</td>\n",
       "      <td>1.000000</td>\n",
       "      <td>0.695000</td>\n",
       "    </tr>\n",
       "    <tr>\n",
       "      <th>50%</th>\n",
       "      <td>100.000000</td>\n",
       "      <td>100.000000</td>\n",
       "      <td>0.000000</td>\n",
       "      <td>1.000000</td>\n",
       "      <td>1.000000</td>\n",
       "      <td>3.000000</td>\n",
       "      <td>1.000000</td>\n",
       "      <td>1.000000</td>\n",
       "      <td>1.000000</td>\n",
       "      <td>750.000000</td>\n",
       "      <td>100.000000</td>\n",
       "      <td>9.000000</td>\n",
       "      <td>96.000000</td>\n",
       "      <td>0.000000</td>\n",
       "      <td>1.000000</td>\n",
       "      <td>1.540000</td>\n",
       "    </tr>\n",
       "    <tr>\n",
       "      <th>75%</th>\n",
       "      <td>100.000000</td>\n",
       "      <td>100.000000</td>\n",
       "      <td>0.000000</td>\n",
       "      <td>1.000000</td>\n",
       "      <td>1.000000</td>\n",
       "      <td>4.000000</td>\n",
       "      <td>1.000000</td>\n",
       "      <td>2.000000</td>\n",
       "      <td>2.000000</td>\n",
       "      <td>1200.000000</td>\n",
       "      <td>150.000000</td>\n",
       "      <td>26.000000</td>\n",
       "      <td>99.000000</td>\n",
       "      <td>0.000000</td>\n",
       "      <td>2.000000</td>\n",
       "      <td>3.000000</td>\n",
       "    </tr>\n",
       "    <tr>\n",
       "      <th>max</th>\n",
       "      <td>100.000000</td>\n",
       "      <td>100.000000</td>\n",
       "      <td>1.000000</td>\n",
       "      <td>1.000000</td>\n",
       "      <td>1.000000</td>\n",
       "      <td>16.000000</td>\n",
       "      <td>8.000000</td>\n",
       "      <td>7.000000</td>\n",
       "      <td>15.000000</td>\n",
       "      <td>3000.000000</td>\n",
       "      <td>1000.000000</td>\n",
       "      <td>474.000000</td>\n",
       "      <td>100.000000</td>\n",
       "      <td>1.000000</td>\n",
       "      <td>37.000000</td>\n",
       "      <td>12.150000</td>\n",
       "    </tr>\n",
       "  </tbody>\n",
       "</table>\n",
       "</div>"
      ],
      "text/plain": [
       "       host_response_rate  host_acceptance_rate  host_is_superhost  \\\n",
       "count         3295.000000           3045.000000        3816.000000   \n",
       "mean            94.886798             99.967159           0.203878   \n",
       "std             11.866705              1.812201           0.402932   \n",
       "min             17.000000              0.000000           0.000000   \n",
       "25%             98.000000            100.000000           0.000000   \n",
       "50%            100.000000            100.000000           0.000000   \n",
       "75%            100.000000            100.000000           0.000000   \n",
       "max            100.000000            100.000000           1.000000   \n",
       "\n",
       "       host_identity_verified  is_location_exact  accommodates    bathrooms  \\\n",
       "count             3816.000000        3818.000000   3818.000000  3802.000000   \n",
       "mean                 0.785377           0.893662      3.349398     1.259469   \n",
       "std                  0.410614           0.308311      1.977599     0.590369   \n",
       "min                  0.000000           0.000000      1.000000     0.000000   \n",
       "25%                  1.000000           1.000000      2.000000     1.000000   \n",
       "50%                  1.000000           1.000000      3.000000     1.000000   \n",
       "75%                  1.000000           1.000000      4.000000     1.000000   \n",
       "max                  1.000000           1.000000     16.000000     8.000000   \n",
       "\n",
       "          bedrooms         beds  square_feet        price  number_of_reviews  \\\n",
       "count  3812.000000  3817.000000    97.000000  3818.000000        3818.000000   \n",
       "mean      1.307712     1.735394   854.618557   127.976166          22.223415   \n",
       "std       0.883395     1.139480   671.404893    90.250022          37.730892   \n",
       "min       0.000000     1.000000     0.000000    20.000000           0.000000   \n",
       "25%       1.000000     1.000000   420.000000    75.000000           2.000000   \n",
       "50%       1.000000     1.000000   750.000000   100.000000           9.000000   \n",
       "75%       2.000000     2.000000  1200.000000   150.000000          26.000000   \n",
       "max       7.000000    15.000000  3000.000000  1000.000000         474.000000   \n",
       "\n",
       "       review_scores_rating  instant_bookable  calculated_host_listings_count  \\\n",
       "count           3171.000000       3818.000000                     3818.000000   \n",
       "mean              94.539262          0.154793                        2.946307   \n",
       "std                6.606083          0.361755                        5.893029   \n",
       "min               20.000000          0.000000                        1.000000   \n",
       "25%               93.000000          0.000000                        1.000000   \n",
       "50%               96.000000          0.000000                        1.000000   \n",
       "75%               99.000000          0.000000                        2.000000   \n",
       "max              100.000000          1.000000                       37.000000   \n",
       "\n",
       "       reviews_per_month  \n",
       "count        3191.000000  \n",
       "mean            2.078919  \n",
       "std             1.822348  \n",
       "min             0.020000  \n",
       "25%             0.695000  \n",
       "50%             1.540000  \n",
       "75%             3.000000  \n",
       "max            12.150000  "
      ]
     },
     "execution_count": 13,
     "metadata": {},
     "output_type": "execute_result"
    }
   ],
   "source": [
    "cleansed_listings_df.describe()"
   ]
  },
  {
   "cell_type": "markdown",
   "id": "a21e4cbf",
   "metadata": {},
   "source": [
    "We can drop the square_feet column as it has too many missing values.\n",
    "We can fill the columns, 'host_is_superhost' ,'host_identity_verified' with the mode\n",
    "And these columns we can fill with the mean; 'host_acceptance_rate', 'host_response_rate', 'review_scores_rating' , 'reviews_per_month'"
   ]
  },
  {
   "cell_type": "markdown",
   "id": "4d7ac303",
   "metadata": {},
   "source": [
    "For bathroom, bedrooms and beds lets replace the missing values wiht zero that way we can penalize it a listing as it has information missing"
   ]
  },
  {
   "cell_type": "code",
   "execution_count": 14,
   "id": "4fbe9179",
   "metadata": {},
   "outputs": [],
   "source": [
    "# Drop the square_feet column as it has too many missing values\n",
    "cleansed_listings_df.drop(columns=['square_feet'], inplace=True)\n",
    "mode_cols = ['host_is_superhost', 'host_identity_verified']\n",
    "mean_cols = ['host_acceptance_rate', 'host_response_rate', 'review_scores_rating' , 'reviews_per_month']\n",
    "\n",
    "# for bathroom, bedrooms and beds lets replace the missing values wiht zero that way we can penalize it a listing as it has information missing\n",
    "\n",
    "zero_cols = ['bathrooms', 'bedrooms', 'beds']\n",
    "\n",
    "cleansed_listings_df[mode_cols]=cleansed_listings_df[mode_cols].fillna(cleansed_listings_df.mode().iloc[0])\n",
    "cleansed_listings_df[mean_cols]=cleansed_listings_df[mean_cols].fillna(cleansed_listings_df.mean().iloc[0])\n",
    "cleansed_listings_df[zero_cols]=cleansed_listings_df[zero_cols].fillna(0)"
   ]
  },
  {
   "cell_type": "markdown",
   "id": "1c28ab6d",
   "metadata": {},
   "source": [
    "Next, lets change the data type of columns with 2 unique values to int and we can also drop the any columns which donot hold more than 2 unique values as it will not help us in our analysis"
   ]
  },
  {
   "cell_type": "code",
   "execution_count": 15,
   "id": "103aed2c",
   "metadata": {},
   "outputs": [],
   "source": [
    "cleansed_listings_df = hf.clean_dtype(cleansed_listings_df)"
   ]
  },
  {
   "cell_type": "code",
   "execution_count": 16,
   "id": "e655eb0e",
   "metadata": {},
   "outputs": [
    {
     "data": {
      "text/plain": [
       "host_response_rate                float64\n",
       "host_acceptance_rate              float64\n",
       "host_is_superhost                   int32\n",
       "host_identity_verified              int32\n",
       "is_location_exact                   int32\n",
       "accommodates                        int64\n",
       "bathrooms                         float64\n",
       "bedrooms                          float64\n",
       "beds                              float64\n",
       "price                             float64\n",
       "number_of_reviews                   int64\n",
       "review_scores_rating              float64\n",
       "instant_bookable                    int32\n",
       "calculated_host_listings_count      int64\n",
       "reviews_per_month                 float64\n",
       "dtype: object"
      ]
     },
     "execution_count": 16,
     "metadata": {},
     "output_type": "execute_result"
    }
   ],
   "source": [
    "# Lets just check the datatypes to be safe\n",
    "cleansed_listings_df.dtypes"
   ]
  },
  {
   "cell_type": "code",
   "execution_count": 17,
   "id": "7d9860d7",
   "metadata": {},
   "outputs": [
    {
     "data": {
      "text/html": [
       "<div>\n",
       "<style scoped>\n",
       "    .dataframe tbody tr th:only-of-type {\n",
       "        vertical-align: middle;\n",
       "    }\n",
       "\n",
       "    .dataframe tbody tr th {\n",
       "        vertical-align: top;\n",
       "    }\n",
       "\n",
       "    .dataframe thead th {\n",
       "        text-align: right;\n",
       "    }\n",
       "</style>\n",
       "<table border=\"1\" class=\"dataframe\">\n",
       "  <thead>\n",
       "    <tr style=\"text-align: right;\">\n",
       "      <th></th>\n",
       "      <th>host_response_rate</th>\n",
       "      <th>host_acceptance_rate</th>\n",
       "      <th>host_is_superhost</th>\n",
       "      <th>host_identity_verified</th>\n",
       "      <th>is_location_exact</th>\n",
       "      <th>accommodates</th>\n",
       "      <th>bathrooms</th>\n",
       "      <th>bedrooms</th>\n",
       "      <th>beds</th>\n",
       "      <th>price</th>\n",
       "      <th>number_of_reviews</th>\n",
       "      <th>review_scores_rating</th>\n",
       "      <th>instant_bookable</th>\n",
       "      <th>calculated_host_listings_count</th>\n",
       "      <th>reviews_per_month</th>\n",
       "    </tr>\n",
       "  </thead>\n",
       "  <tbody>\n",
       "    <tr>\n",
       "      <th>0</th>\n",
       "      <td>96.000000</td>\n",
       "      <td>100.000000</td>\n",
       "      <td>0</td>\n",
       "      <td>1</td>\n",
       "      <td>1</td>\n",
       "      <td>4</td>\n",
       "      <td>1.0</td>\n",
       "      <td>1.0</td>\n",
       "      <td>1.0</td>\n",
       "      <td>85.0</td>\n",
       "      <td>207</td>\n",
       "      <td>95.000000</td>\n",
       "      <td>0</td>\n",
       "      <td>2</td>\n",
       "      <td>4.070000</td>\n",
       "    </tr>\n",
       "    <tr>\n",
       "      <th>1</th>\n",
       "      <td>98.000000</td>\n",
       "      <td>100.000000</td>\n",
       "      <td>1</td>\n",
       "      <td>1</td>\n",
       "      <td>1</td>\n",
       "      <td>4</td>\n",
       "      <td>1.0</td>\n",
       "      <td>1.0</td>\n",
       "      <td>1.0</td>\n",
       "      <td>150.0</td>\n",
       "      <td>43</td>\n",
       "      <td>96.000000</td>\n",
       "      <td>0</td>\n",
       "      <td>6</td>\n",
       "      <td>1.480000</td>\n",
       "    </tr>\n",
       "    <tr>\n",
       "      <th>2</th>\n",
       "      <td>67.000000</td>\n",
       "      <td>100.000000</td>\n",
       "      <td>0</td>\n",
       "      <td>1</td>\n",
       "      <td>1</td>\n",
       "      <td>11</td>\n",
       "      <td>4.5</td>\n",
       "      <td>5.0</td>\n",
       "      <td>7.0</td>\n",
       "      <td>975.0</td>\n",
       "      <td>20</td>\n",
       "      <td>97.000000</td>\n",
       "      <td>0</td>\n",
       "      <td>2</td>\n",
       "      <td>1.150000</td>\n",
       "    </tr>\n",
       "    <tr>\n",
       "      <th>3</th>\n",
       "      <td>94.886798</td>\n",
       "      <td>94.886798</td>\n",
       "      <td>0</td>\n",
       "      <td>1</td>\n",
       "      <td>1</td>\n",
       "      <td>3</td>\n",
       "      <td>1.0</td>\n",
       "      <td>0.0</td>\n",
       "      <td>2.0</td>\n",
       "      <td>100.0</td>\n",
       "      <td>0</td>\n",
       "      <td>94.886798</td>\n",
       "      <td>0</td>\n",
       "      <td>1</td>\n",
       "      <td>94.886798</td>\n",
       "    </tr>\n",
       "    <tr>\n",
       "      <th>4</th>\n",
       "      <td>100.000000</td>\n",
       "      <td>94.886798</td>\n",
       "      <td>0</td>\n",
       "      <td>1</td>\n",
       "      <td>1</td>\n",
       "      <td>6</td>\n",
       "      <td>2.0</td>\n",
       "      <td>3.0</td>\n",
       "      <td>3.0</td>\n",
       "      <td>450.0</td>\n",
       "      <td>38</td>\n",
       "      <td>92.000000</td>\n",
       "      <td>0</td>\n",
       "      <td>1</td>\n",
       "      <td>0.890000</td>\n",
       "    </tr>\n",
       "  </tbody>\n",
       "</table>\n",
       "</div>"
      ],
      "text/plain": [
       "   host_response_rate  host_acceptance_rate  host_is_superhost  \\\n",
       "0           96.000000            100.000000                  0   \n",
       "1           98.000000            100.000000                  1   \n",
       "2           67.000000            100.000000                  0   \n",
       "3           94.886798             94.886798                  0   \n",
       "4          100.000000             94.886798                  0   \n",
       "\n",
       "   host_identity_verified  is_location_exact  accommodates  bathrooms  \\\n",
       "0                       1                  1             4        1.0   \n",
       "1                       1                  1             4        1.0   \n",
       "2                       1                  1            11        4.5   \n",
       "3                       1                  1             3        1.0   \n",
       "4                       1                  1             6        2.0   \n",
       "\n",
       "   bedrooms  beds  price  number_of_reviews  review_scores_rating  \\\n",
       "0       1.0   1.0   85.0                207             95.000000   \n",
       "1       1.0   1.0  150.0                 43             96.000000   \n",
       "2       5.0   7.0  975.0                 20             97.000000   \n",
       "3       0.0   2.0  100.0                  0             94.886798   \n",
       "4       3.0   3.0  450.0                 38             92.000000   \n",
       "\n",
       "   instant_bookable  calculated_host_listings_count  reviews_per_month  \n",
       "0                 0                               2           4.070000  \n",
       "1                 0                               6           1.480000  \n",
       "2                 0                               2           1.150000  \n",
       "3                 0                               1          94.886798  \n",
       "4                 0                               1           0.890000  "
      ]
     },
     "execution_count": 17,
     "metadata": {},
     "output_type": "execute_result"
    }
   ],
   "source": [
    "cleansed_listings_df.head()"
   ]
  },
  {
   "cell_type": "markdown",
   "id": "3ce8cfbb",
   "metadata": {},
   "source": [
    "Next lets clean the calender table. First lets check the missing values"
   ]
  },
  {
   "cell_type": "code",
   "execution_count": 18,
   "id": "dfcd0098",
   "metadata": {},
   "outputs": [
    {
     "data": {
      "text/plain": [
       "price         32.938998\n",
       "listing_id     0.000000\n",
       "date           0.000000\n",
       "available      0.000000\n",
       "dtype: float64"
      ]
     },
     "execution_count": 18,
     "metadata": {},
     "output_type": "execute_result"
    }
   ],
   "source": [
    "calender_df.isnull().sum().sort_values(ascending=False) * 100 / len(calender_df)"
   ]
  },
  {
   "cell_type": "markdown",
   "id": "3ab25804",
   "metadata": {},
   "source": [
    "We can replace the missing values in the price column by 0 and also replace the 't' and 'f' by 1 and 0"
   ]
  },
  {
   "cell_type": "code",
   "execution_count": 19,
   "id": "698a2db5",
   "metadata": {},
   "outputs": [],
   "source": [
    "calender_df = calender_df.replace({\"t\": 1, \"f\": 0})\n",
    "calender_df.fillna(0, inplace=True)"
   ]
  },
  {
   "cell_type": "markdown",
   "id": "4a66a62f",
   "metadata": {},
   "source": [
    "Remove the dollar sign and make a new column for 'year_month'"
   ]
  },
  {
   "cell_type": "code",
   "execution_count": 20,
   "id": "8773b996",
   "metadata": {},
   "outputs": [],
   "source": [
    "calender_df['price'] = calender_df['price'].str.replace('[^0-9.]+','', regex=True).astype(float)\n",
    "\n",
    "calender_df['year_month'] = calender_df['date'].str.split('-').str[0:2].apply('-'.join)"
   ]
  },
  {
   "cell_type": "code",
   "execution_count": 21,
   "id": "985c199d",
   "metadata": {},
   "outputs": [
    {
     "data": {
      "text/html": [
       "<div>\n",
       "<style scoped>\n",
       "    .dataframe tbody tr th:only-of-type {\n",
       "        vertical-align: middle;\n",
       "    }\n",
       "\n",
       "    .dataframe tbody tr th {\n",
       "        vertical-align: top;\n",
       "    }\n",
       "\n",
       "    .dataframe thead th {\n",
       "        text-align: right;\n",
       "    }\n",
       "</style>\n",
       "<table border=\"1\" class=\"dataframe\">\n",
       "  <thead>\n",
       "    <tr style=\"text-align: right;\">\n",
       "      <th></th>\n",
       "      <th>listing_id</th>\n",
       "      <th>available</th>\n",
       "      <th>price</th>\n",
       "    </tr>\n",
       "  </thead>\n",
       "  <tbody>\n",
       "    <tr>\n",
       "      <th>count</th>\n",
       "      <td>1.393570e+06</td>\n",
       "      <td>1.393570e+06</td>\n",
       "      <td>934542.000000</td>\n",
       "    </tr>\n",
       "    <tr>\n",
       "      <th>mean</th>\n",
       "      <td>5.550111e+06</td>\n",
       "      <td>6.706100e-01</td>\n",
       "      <td>137.944859</td>\n",
       "    </tr>\n",
       "    <tr>\n",
       "      <th>std</th>\n",
       "      <td>2.962274e+06</td>\n",
       "      <td>4.699919e-01</td>\n",
       "      <td>105.062870</td>\n",
       "    </tr>\n",
       "    <tr>\n",
       "      <th>min</th>\n",
       "      <td>3.335000e+03</td>\n",
       "      <td>0.000000e+00</td>\n",
       "      <td>10.000000</td>\n",
       "    </tr>\n",
       "    <tr>\n",
       "      <th>25%</th>\n",
       "      <td>3.258213e+06</td>\n",
       "      <td>0.000000e+00</td>\n",
       "      <td>75.000000</td>\n",
       "    </tr>\n",
       "    <tr>\n",
       "      <th>50%</th>\n",
       "      <td>6.118244e+06</td>\n",
       "      <td>1.000000e+00</td>\n",
       "      <td>109.000000</td>\n",
       "    </tr>\n",
       "    <tr>\n",
       "      <th>75%</th>\n",
       "      <td>8.035212e+06</td>\n",
       "      <td>1.000000e+00</td>\n",
       "      <td>160.000000</td>\n",
       "    </tr>\n",
       "    <tr>\n",
       "      <th>max</th>\n",
       "      <td>1.034016e+07</td>\n",
       "      <td>1.000000e+00</td>\n",
       "      <td>1650.000000</td>\n",
       "    </tr>\n",
       "  </tbody>\n",
       "</table>\n",
       "</div>"
      ],
      "text/plain": [
       "         listing_id     available          price\n",
       "count  1.393570e+06  1.393570e+06  934542.000000\n",
       "mean   5.550111e+06  6.706100e-01     137.944859\n",
       "std    2.962274e+06  4.699919e-01     105.062870\n",
       "min    3.335000e+03  0.000000e+00      10.000000\n",
       "25%    3.258213e+06  0.000000e+00      75.000000\n",
       "50%    6.118244e+06  1.000000e+00     109.000000\n",
       "75%    8.035212e+06  1.000000e+00     160.000000\n",
       "max    1.034016e+07  1.000000e+00    1650.000000"
      ]
     },
     "execution_count": 21,
     "metadata": {},
     "output_type": "execute_result"
    }
   ],
   "source": [
    "calender_df.describe()"
   ]
  },
  {
   "cell_type": "markdown",
   "id": "c62ff133",
   "metadata": {},
   "source": [
    "# Data Modelling"
   ]
  },
  {
   "cell_type": "markdown",
   "id": "051bf341",
   "metadata": {},
   "source": [
    "Get our features in one data frame and the the value to be predicted in another"
   ]
  },
  {
   "cell_type": "code",
   "execution_count": 22,
   "id": "4a14d578",
   "metadata": {},
   "outputs": [],
   "source": [
    "X = cleansed_listings_df.drop(['price'], axis=1)\n",
    "y = cleansed_listings_df['price']"
   ]
  },
  {
   "cell_type": "markdown",
   "id": "e28785cd",
   "metadata": {},
   "source": [
    "Next we are going to split into t|est and train sets and intialize and train a linear regressor. We are going to normalize our features as it is always a good idea to transform them into the same scale"
   ]
  },
  {
   "cell_type": "code",
   "execution_count": 23,
   "id": "2e7b6d74",
   "metadata": {},
   "outputs": [
    {
     "name": "stdout",
     "output_type": "stream",
     "text": [
      "Test Score: 0.40935572013022437\n",
      "Train Score: 0.525987634863643\n"
     ]
    }
   ],
   "source": [
    "X_train, X_test, y_train, y_test = train_test_split(X, y, test_size = .30) \n",
    "\n",
    "lm_model, test_score, train_score = hf.fit_linear_model(X_train, X_test, y_train, y_test)\n",
    "\n",
    "print(\"Test Score: \" + str(test_score))\n",
    "print(\"Train Score: \" + str(train_score))"
   ]
  },
  {
   "cell_type": "markdown",
   "id": "b48d2c72",
   "metadata": {},
   "source": [
    "As we can see from above results linear regression is not performing well enough to derive any results from it. Next we can try Random Forest Regressor and see how it works"
   ]
  },
  {
   "cell_type": "code",
   "execution_count": 24,
   "id": "9e3f3480",
   "metadata": {},
   "outputs": [
    {
     "name": "stdout",
     "output_type": "stream",
     "text": [
      "Random Forest MSE train: 673.289, test: 4121.201\n",
      "Random Forest R^2 train: 0.922, test: 0.416\n"
     ]
    }
   ],
   "source": [
    "from sklearn.preprocessing import StandardScaler \n",
    "from sklearn.ensemble import RandomForestRegressor\n",
    "\n",
    "rfr, train_score_r2, test_score_r2,train_score_mse, test_score_mse = hf.fit_random_forest(X_train, X_test, y_train, y_test)"
   ]
  },
  {
   "cell_type": "markdown",
   "id": "d7c5ad76",
   "metadata": {},
   "source": [
    "This model is still not very good but lets keep it"
   ]
  },
  {
   "cell_type": "markdown",
   "id": "c42c521b",
   "metadata": {},
   "source": [
    "## Question 1"
   ]
  },
  {
   "cell_type": "markdown",
   "id": "214bcc16",
   "metadata": {},
   "source": [
    "Which areas are expensive or more visited as compared to others?"
   ]
  },
  {
   "cell_type": "markdown",
   "id": "7ca33682",
   "metadata": {},
   "source": [
    "To answer this question lets plot the mean price for each neighbourhood and see the results"
   ]
  },
  {
   "cell_type": "code",
   "execution_count": 25,
   "id": "5e28a017",
   "metadata": {},
   "outputs": [
    {
     "data": {
      "image/png": "[encoded data removed]",
      "text/plain": [
       "<Figure size 1080x360 with 1 Axes>"
      ]
     },
     "metadata": {
      "needs_background": "light"
     },
     "output_type": "display_data"
    }
   ],
   "source": [
    "# Removing the dollar sign and coverting to float\n",
    "listing_df['price'] = listing_df['price'].str.replace('[^0-9.]+','', regex=True).astype(float)\n",
    "nh_price = hf.groupby_plot(listing_df,['neighbourhood_cleansed'],'price', title='Mean Price by Neighbourhood',\n",
    "                      ylab='Mean Price in $', xlab='Neighbourhood', top_n=25)"
   ]
  },
  {
   "cell_type": "code",
   "execution_count": null,
   "id": "7f5892ef",
   "metadata": {},
   "outputs": [],
   "source": []
  },
  {
   "cell_type": "markdown",
   "id": "2f6e7ab4",
   "metadata": {},
   "source": [
    "As we can see the most expensive neighbourhoods are **Southeast Magnolia** and **Portage Bay**    "
   ]
  },
  {
   "cell_type": "markdown",
   "id": "00916bd4",
   "metadata": {},
   "source": [
    "Now lets see which areas are visited the most. We can see this by averaging the number of reviews per month for each area. Higher average means more people visiting"
   ]
  },
  {
   "cell_type": "code",
   "execution_count": 26,
   "id": "4f93a520",
   "metadata": {},
   "outputs": [
    {
     "data": {
      "image/png": "[encoded data removed]",
      "text/plain": [
       "<Figure size 1080x360 with 1 Axes>"
      ]
     },
     "metadata": {
      "needs_background": "light"
     },
     "output_type": "display_data"
    }
   ],
   "source": [
    "nh_pop = hf.groupby_plot(listing_df,['neighbourhood_cleansed'],'reviews_per_month', title='Average reviews per month by Neighbourhood',\n",
    "                      ylab='Average number of reviews per month', xlab='Neighbourhood', top_n=25)"
   ]
  },
  {
   "cell_type": "markdown",
   "id": "1f859304",
   "metadata": {},
   "source": [
    "As you can see **International District** is the most popular neighbourhood followed by **Brighton**, **Pike-Market**, **Harrison/Denny-Blaine**, **Mid-Beacon Hill**"
   ]
  },
  {
   "cell_type": "markdown",
   "id": "23041717",
   "metadata": {},
   "source": [
    "# Qestion 2"
   ]
  },
  {
   "cell_type": "markdown",
   "id": "b6519fad",
   "metadata": {},
   "source": [
    "How does the price vary during the year, when should you visit if you want a cheaper price?"
   ]
  },
  {
   "cell_type": "markdown",
   "id": "e3946512",
   "metadata": {},
   "source": [
    "Next lets extract feature importance to check which features affects the price most"
   ]
  },
  {
   "cell_type": "code",
   "execution_count": 27,
   "id": "384a7ab3",
   "metadata": {},
   "outputs": [
    {
     "data": {
      "image/png": "[encoded data removed]",
      "text/plain": [
       "<Figure size 1080x360 with 1 Axes>"
      ]
     },
     "metadata": {
      "needs_background": "light"
     },
     "output_type": "display_data"
    }
   ],
   "source": [
    "av_price_trend = hf.groupby_plot(calender_df,['year_month'],'price',plot_type='line', title='Average Price Trend',\n",
    "                      ylab='Average Price', xlab='Year Month')"
   ]
  },
  {
   "cell_type": "markdown",
   "id": "1a3c0192",
   "metadata": {},
   "source": [
    "As we can see the price is the high in the **summer** and the highest in **July**"
   ]
  },
  {
   "cell_type": "markdown",
   "id": "da3b4d2b",
   "metadata": {},
   "source": [
    "Also around the **holidays** we can see the prices are high as compared to other months"
   ]
  },
  {
   "cell_type": "markdown",
   "id": "0de693bc",
   "metadata": {},
   "source": [
    "# Question 3"
   ]
  },
  {
   "cell_type": "markdown",
   "id": "9468c266",
   "metadata": {},
   "source": [
    "What are the factors that influence price the most?"
   ]
  },
  {
   "cell_type": "markdown",
   "id": "fa898303",
   "metadata": {},
   "source": [
    "Lets get the feature importance from our model"
   ]
  },
  {
   "cell_type": "code",
   "execution_count": 28,
   "id": "96a81df5",
   "metadata": {},
   "outputs": [
    {
     "data": {
      "text/html": [
       "<div>\n",
       "<style scoped>\n",
       "    .dataframe tbody tr th:only-of-type {\n",
       "        vertical-align: middle;\n",
       "    }\n",
       "\n",
       "    .dataframe tbody tr th {\n",
       "        vertical-align: top;\n",
       "    }\n",
       "\n",
       "    .dataframe thead th {\n",
       "        text-align: right;\n",
       "    }\n",
       "</style>\n",
       "<table border=\"1\" class=\"dataframe\">\n",
       "  <thead>\n",
       "    <tr style=\"text-align: right;\">\n",
       "      <th></th>\n",
       "      <th>Feature</th>\n",
       "      <th>Co-efficients</th>\n",
       "    </tr>\n",
       "  </thead>\n",
       "  <tbody>\n",
       "    <tr>\n",
       "      <th>7</th>\n",
       "      <td>bedrooms</td>\n",
       "      <td>0.396499</td>\n",
       "    </tr>\n",
       "    <tr>\n",
       "      <th>5</th>\n",
       "      <td>accommodates</td>\n",
       "      <td>0.126733</td>\n",
       "    </tr>\n",
       "    <tr>\n",
       "      <th>6</th>\n",
       "      <td>bathrooms</td>\n",
       "      <td>0.113380</td>\n",
       "    </tr>\n",
       "    <tr>\n",
       "      <th>13</th>\n",
       "      <td>reviews_per_month</td>\n",
       "      <td>0.109166</td>\n",
       "    </tr>\n",
       "    <tr>\n",
       "      <th>9</th>\n",
       "      <td>number_of_reviews</td>\n",
       "      <td>0.053111</td>\n",
       "    </tr>\n",
       "  </tbody>\n",
       "</table>\n",
       "</div>"
      ],
      "text/plain": [
       "              Feature  Co-efficients\n",
       "7            bedrooms       0.396499\n",
       "5        accommodates       0.126733\n",
       "6           bathrooms       0.113380\n",
       "13  reviews_per_month       0.109166\n",
       "9   number_of_reviews       0.053111"
      ]
     },
     "execution_count": 28,
     "metadata": {},
     "output_type": "execute_result"
    }
   ],
   "source": [
    "coefs_df = pd.DataFrame()\n",
    "coefs_df['Feature'] = X.columns\n",
    "coefs_df['Co-efficients'] = rfr.feature_importances_\n",
    "coefs_df = coefs_df.sort_values('Co-efficients', ascending=False)\n",
    "coefs_df.head()"
   ]
  },
  {
   "cell_type": "markdown",
   "id": "a8e110ec",
   "metadata": {},
   "source": [
    "Lets plot and analyze them"
   ]
  },
  {
   "cell_type": "code",
   "execution_count": 29,
   "id": "f14a6e63",
   "metadata": {},
   "outputs": [
    {
     "data": {
      "image/png": "[encoded data removed]",
      "text/plain": [
       "<Figure size 1080x360 with 1 Axes>"
      ]
     },
     "metadata": {
      "needs_background": "light"
     },
     "output_type": "display_data"
    }
   ],
   "source": [
    "coef_imp = hf.groupby_plot(coefs_df,['Feature'],'Co-efficients',plot_type='bar', title='Feature Importance',\n",
    "                      ylab='Importance', xlab='Feature')"
   ]
  },
  {
   "cell_type": "markdown",
   "id": "b6e46018",
   "metadata": {},
   "source": [
    "As expected the number of **bedrooms** affects the price most because a bigger place will of course cost more. Further more **number of people** that can stay also raises the price. "
   ]
  },
  {
   "cell_type": "markdown",
   "id": "33a90201",
   "metadata": {},
   "source": [
    "We can also see that more reviews means higher price so popular listings are more expensive"
   ]
  },
  {
   "cell_type": "markdown",
   "id": "194a3d65",
   "metadata": {},
   "source": [
    "# Summary:"
   ]
  },
  {
   "cell_type": "markdown",
   "id": "36e7bdad",
   "metadata": {},
   "source": [
    "So, if you are planning to visit Seattle there are a number of things you could keep in mind. Summer is a great time to visit because rentals will be available and you will get a chance to bump into fellow travelers. International District would be a great place to stay owing to its popularity. To save money, it would be smart to rent a small space. It wouldn’t be smart to go in the winters because availability will be low, despite the low prices."
   ]
  }
 ],
 "metadata": {
  "kernelspec": {
   "display_name": "Python 3",
   "language": "python",
   "name": "python3"
  },
  "language_info": {
   "codemirror_mode": {
    "name": "ipython",
    "version": 3
   },
   "file_extension": ".py",
   "mimetype": "text/x-python",
   "name": "python",
   "nbconvert_exporter": "python",
   "pygments_lexer": "ipython3",
   "version": "3.8.8"
  }
 },
 "nbformat": 4,
 "nbformat_minor": 5
}
